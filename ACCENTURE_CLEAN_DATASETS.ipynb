{
  "nbformat": 4,
  "nbformat_minor": 0,
  "metadata": {
    "colab": {
      "provenance": [],
      "authorship_tag": "ABX9TyMkP8wamQFw1q41MvYOI87+",
      "include_colab_link": true
    },
    "kernelspec": {
      "name": "python3",
      "display_name": "Python 3"
    },
    "language_info": {
      "name": "python"
    }
  },
  "cells": [
    {
      "cell_type": "markdown",
      "metadata": {
        "id": "view-in-github",
        "colab_type": "text"
      },
      "source": [
        "<a href=\"https://colab.research.google.com/github/techrhea777/Data-Science-Projects/blob/main/ACCENTURE_CLEAN_DATASETS.ipynb\" target=\"_parent\"><img src=\"https://colab.research.google.com/assets/colab-badge.svg\" alt=\"Open In Colab\"/></a>"
      ]
    },
    {
      "cell_type": "code",
      "execution_count": 1,
      "metadata": {
        "id": "a-K2QPKxb_iV"
      },
      "outputs": [],
      "source": [
        "import pandas as pd\n",
        "\n",
        "# Load data from URLs\n",
        "reaction_types_df = pd.read_csv(\"https://cdn.theforage.com/vinternships/companyassets/T6kdcdKSTfg2aotxT/MsAqi7SNLKw3C6LAr/1664298399720/ReactionTypes.csv\")\n",
        "reactions_df = pd.read_csv(\"https://cdn.theforage.com/vinternships/companyassets/T6kdcdKSTfg2aotxT/MsAqi7SNLKw3C6LAr/1664298375459/Reactions.csv\")\n",
        "content_df = pd.read_csv(\"https://cdn.theforage.com/vinternships/companyassets/T6kdcdKSTfg2aotxT/MsAqi7SNLKw3C6LAr/1664298350004/Content.csv\")\n"
      ]
    },
    {
      "cell_type": "code",
      "source": [
        "# Remove rows with missing values\n",
        "reaction_types_df.dropna(inplace=True)\n",
        "reactions_df.dropna(inplace=True)\n",
        "content_df.dropna(inplace=True)\n",
        "\n",
        "# Change data type of some values within a column\n",
        "# For example, if you want to change a column 'Age' to integer type\n",
        "# reactions_df['Age'] = reactions_df['Age'].astype(int)\n",
        "\n",
        "# Remove irrelevant columns\n",
        "# For example, if 'Timestamp' column is not relevant\n",
        "# content_df.drop(columns=['Timestamp'], inplace=True)\n"
      ],
      "metadata": {
        "id": "-cpIEpr4cgsv"
      },
      "execution_count": 2,
      "outputs": []
    },
    {
      "cell_type": "code",
      "source": [
        "reaction_types_df.to_csv(\"cleaned_reaction_types.csv\", index=False)\n",
        "reactions_df.to_csv(\"cleaned_reactions.csv\", index=False)\n",
        "content_df.to_csv(\"cleaned_content.csv\", index=False)\n"
      ],
      "metadata": {
        "id": "OFHjUW3aclm7"
      },
      "execution_count": 3,
      "outputs": []
    },
    {
      "cell_type": "code",
      "source": [
        "import pandas as pd\n",
        "\n",
        "# Load data from URLs\n",
        "reaction_types_df = pd.read_csv(\"https://cdn.theforage.com/vinternships/companyassets/T6kdcdKSTfg2aotxT/MsAqi7SNLKw3C6LAr/1664298399720/ReactionTypes.csv\")\n",
        "reactions_df = pd.read_csv(\"https://cdn.theforage.com/vinternships/companyassets/T6kdcdKSTfg2aotxT/MsAqi7SNLKw3C6LAr/1664298375459/Reactions.csv\")\n",
        "content_df = pd.read_csv(\"https://cdn.theforage.com/vinternships/companyassets/T6kdcdKSTfg2aotxT/MsAqi7SNLKw3C6LAr/1664298350004/Content.csv\")\n",
        "\n",
        "# Clean ReactionTypes.csv\n",
        "reaction_types_df.dropna(inplace=True)  # Remove rows with missing values\n",
        "\n",
        "# Clean Reactions.csv\n",
        "reactions_df.dropna(inplace=True)  # Remove rows with missing values\n",
        "# Example: Change data type of a column\n",
        "# reactions_df['Age'] = reactions_df['Age'].astype(int)\n",
        "\n",
        "# Clean Content.csv\n",
        "content_df.dropna(inplace=True)  # Remove rows with missing values\n",
        "# Example: Remove irrelevant columns\n",
        "# content_df.drop(columns=['Timestamp'], inplace=True)\n",
        "\n",
        "# Save the cleaned datasets\n",
        "reaction_types_df.to_csv(\"cleaned_reaction_types.csv\", index=False)\n",
        "reactions_df.to_csv(\"cleaned_reactions.csv\", index=False)\n",
        "content_df.to_csv(\"cleaned_content.csv\", index=False)\n"
      ],
      "metadata": {
        "id": "ogs9Gaj3crob"
      },
      "execution_count": 4,
      "outputs": []
    },
    {
      "cell_type": "code",
      "source": [
        "# Check the shape (number of rows and columns) of each dataset before cleaning\n",
        "print(\"Before cleaning:\")\n",
        "print(\"ReactionTypes.csv shape:\", reaction_types_df.shape)\n",
        "print(\"Reactions.csv shape:\", reactions_df.shape)\n",
        "print(\"Content.csv shape:\", content_df.shape)\n",
        "\n",
        "# Display the first few rows of each dataset before cleaning\n",
        "print(\"\\nFirst few rows before cleaning:\")\n",
        "print(\"ReactionTypes.csv:\")\n",
        "print(reaction_types_df.head())\n",
        "print(\"\\nReactions.csv:\")\n",
        "print(reactions_df.head())\n",
        "print(\"\\nContent.csv:\")\n",
        "print(content_df.head())\n",
        "\n",
        "# Clean the datasets as shown in the previous example\n",
        "\n",
        "# Check the shape of each dataset after cleaning\n",
        "print(\"\\nAfter cleaning:\")\n",
        "print(\"ReactionTypes.csv shape:\", reaction_types_df.shape)\n",
        "print(\"Reactions.csv shape:\", reactions_df.shape)\n",
        "print(\"Content.csv shape:\", content_df.shape)\n",
        "\n",
        "# Display the first few rows of each dataset after cleaning\n",
        "print(\"\\nFirst few rows after cleaning:\")\n",
        "print(\"ReactionTypes.csv:\")\n",
        "print(reaction_types_df.head())\n",
        "print(\"\\nReactions.csv:\")\n",
        "print(reactions_df.head())\n",
        "print(\"\\nContent.csv:\")\n",
        "print(content_df.head())\n"
      ],
      "metadata": {
        "colab": {
          "base_uri": "https://localhost:8080/"
        },
        "id": "pceC_LzWc2I5",
        "outputId": "abfd6431-e24e-4ea3-c6fe-737eb4ef2d40"
      },
      "execution_count": 5,
      "outputs": [
        {
          "output_type": "stream",
          "name": "stdout",
          "text": [
            "Before cleaning:\n",
            "ReactionTypes.csv shape: (16, 4)\n",
            "Reactions.csv shape: (22534, 5)\n",
            "Content.csv shape: (801, 6)\n",
            "\n",
            "First few rows before cleaning:\n",
            "ReactionTypes.csv:\n",
            "   Unnamed: 0        Type Sentiment  Score\n",
            "0           0       heart  positive     60\n",
            "1           1        want  positive     70\n",
            "2           2     disgust  negative      0\n",
            "3           3        hate  negative      5\n",
            "4           4  interested  positive     30\n",
            "\n",
            "Reactions.csv:\n",
            "   Unnamed: 0                            Content ID  \\\n",
            "1           1  97522e57-d9ab-4bd6-97bf-c24d952602d2   \n",
            "2           2  97522e57-d9ab-4bd6-97bf-c24d952602d2   \n",
            "3           3  97522e57-d9ab-4bd6-97bf-c24d952602d2   \n",
            "4           4  97522e57-d9ab-4bd6-97bf-c24d952602d2   \n",
            "5           5  97522e57-d9ab-4bd6-97bf-c24d952602d2   \n",
            "\n",
            "                                User ID        Type             Datetime  \n",
            "1  5d454588-283d-459d-915d-c48a2cb4c27f     disgust  2020-11-07 09:43:50  \n",
            "2  92b87fa5-f271-43e0-af66-84fac21052e6     dislike  2021-06-17 12:22:51  \n",
            "3  163daa38-8b77-48c9-9af6-37a6c1447ac2      scared  2021-04-18 05:13:58  \n",
            "4  34e8add9-0206-47fd-a501-037b994650a2     disgust  2021-01-06 19:13:01  \n",
            "5  9b6d35f9-5e15-4cd0-a8d7-b1f3340e02c4  interested  2020-08-23 12:25:58  \n",
            "\n",
            "Content.csv:\n",
            "   Unnamed: 0                            Content ID  \\\n",
            "0           0  97522e57-d9ab-4bd6-97bf-c24d952602d2   \n",
            "1           1  9f737e0a-3cdd-4d29-9d24-753f4e3be810   \n",
            "2           2  230c4e4d-70c3-461d-b42c-ec09396efb3f   \n",
            "3           3  356fff80-da4d-4785-9f43-bc1261031dc6   \n",
            "4           4  01ab84dd-6364-4236-abbb-3f237db77180   \n",
            "\n",
            "                                User ID   Type        Category  \\\n",
            "0  8d3cd87d-8a31-4935-9a4f-b319bfe05f31  photo        Studying   \n",
            "1  beb1f34e-7870-46d6-9fc7-2e12eb83ce43  photo  healthy eating   \n",
            "2  a5c65404-5894-4b87-82f2-d787cbee86b4  photo  healthy eating   \n",
            "3  9fb4ce88-fac1-406c-8544-1a899cee7aaf  photo      technology   \n",
            "4  e206e31b-5f85-4964-b6ea-d7ee5324def1  video            food   \n",
            "\n",
            "                                                 URL  \n",
            "0  https://socialbuzz.cdn.com/content/storage/975...  \n",
            "1  https://socialbuzz.cdn.com/content/storage/9f7...  \n",
            "2  https://socialbuzz.cdn.com/content/storage/230...  \n",
            "3  https://socialbuzz.cdn.com/content/storage/356...  \n",
            "4  https://socialbuzz.cdn.com/content/storage/01a...  \n",
            "\n",
            "After cleaning:\n",
            "ReactionTypes.csv shape: (16, 4)\n",
            "Reactions.csv shape: (22534, 5)\n",
            "Content.csv shape: (801, 6)\n",
            "\n",
            "First few rows after cleaning:\n",
            "ReactionTypes.csv:\n",
            "   Unnamed: 0        Type Sentiment  Score\n",
            "0           0       heart  positive     60\n",
            "1           1        want  positive     70\n",
            "2           2     disgust  negative      0\n",
            "3           3        hate  negative      5\n",
            "4           4  interested  positive     30\n",
            "\n",
            "Reactions.csv:\n",
            "   Unnamed: 0                            Content ID  \\\n",
            "1           1  97522e57-d9ab-4bd6-97bf-c24d952602d2   \n",
            "2           2  97522e57-d9ab-4bd6-97bf-c24d952602d2   \n",
            "3           3  97522e57-d9ab-4bd6-97bf-c24d952602d2   \n",
            "4           4  97522e57-d9ab-4bd6-97bf-c24d952602d2   \n",
            "5           5  97522e57-d9ab-4bd6-97bf-c24d952602d2   \n",
            "\n",
            "                                User ID        Type             Datetime  \n",
            "1  5d454588-283d-459d-915d-c48a2cb4c27f     disgust  2020-11-07 09:43:50  \n",
            "2  92b87fa5-f271-43e0-af66-84fac21052e6     dislike  2021-06-17 12:22:51  \n",
            "3  163daa38-8b77-48c9-9af6-37a6c1447ac2      scared  2021-04-18 05:13:58  \n",
            "4  34e8add9-0206-47fd-a501-037b994650a2     disgust  2021-01-06 19:13:01  \n",
            "5  9b6d35f9-5e15-4cd0-a8d7-b1f3340e02c4  interested  2020-08-23 12:25:58  \n",
            "\n",
            "Content.csv:\n",
            "   Unnamed: 0                            Content ID  \\\n",
            "0           0  97522e57-d9ab-4bd6-97bf-c24d952602d2   \n",
            "1           1  9f737e0a-3cdd-4d29-9d24-753f4e3be810   \n",
            "2           2  230c4e4d-70c3-461d-b42c-ec09396efb3f   \n",
            "3           3  356fff80-da4d-4785-9f43-bc1261031dc6   \n",
            "4           4  01ab84dd-6364-4236-abbb-3f237db77180   \n",
            "\n",
            "                                User ID   Type        Category  \\\n",
            "0  8d3cd87d-8a31-4935-9a4f-b319bfe05f31  photo        Studying   \n",
            "1  beb1f34e-7870-46d6-9fc7-2e12eb83ce43  photo  healthy eating   \n",
            "2  a5c65404-5894-4b87-82f2-d787cbee86b4  photo  healthy eating   \n",
            "3  9fb4ce88-fac1-406c-8544-1a899cee7aaf  photo      technology   \n",
            "4  e206e31b-5f85-4964-b6ea-d7ee5324def1  video            food   \n",
            "\n",
            "                                                 URL  \n",
            "0  https://socialbuzz.cdn.com/content/storage/975...  \n",
            "1  https://socialbuzz.cdn.com/content/storage/9f7...  \n",
            "2  https://socialbuzz.cdn.com/content/storage/230...  \n",
            "3  https://socialbuzz.cdn.com/content/storage/356...  \n",
            "4  https://socialbuzz.cdn.com/content/storage/01a...  \n"
          ]
        }
      ]
    },
    {
      "cell_type": "code",
      "source": [
        "# Check for missing data in ReactionTypes.csv\n",
        "print(\"Missing data in ReactionTypes.csv:\")\n",
        "print(reaction_types_df.isnull().sum())\n",
        "\n",
        "# Check for missing data in Reactions.csv\n",
        "print(\"\\nMissing data in Reactions.csv:\")\n",
        "print(reactions_df.isnull().sum())\n",
        "\n",
        "# Check for missing data in Content.csv\n",
        "print(\"\\nMissing data in Content.csv:\")\n",
        "print(content_df.isnull().sum())\n"
      ],
      "metadata": {
        "colab": {
          "base_uri": "https://localhost:8080/"
        },
        "id": "vykGI0W2c_oe",
        "outputId": "77c7d161-a5f0-4e55-cfe7-e9eaecbace7a"
      },
      "execution_count": 6,
      "outputs": [
        {
          "output_type": "stream",
          "name": "stdout",
          "text": [
            "Missing data in ReactionTypes.csv:\n",
            "Unnamed: 0    0\n",
            "Type          0\n",
            "Sentiment     0\n",
            "Score         0\n",
            "dtype: int64\n",
            "\n",
            "Missing data in Reactions.csv:\n",
            "Unnamed: 0    0\n",
            "Content ID    0\n",
            "User ID       0\n",
            "Type          0\n",
            "Datetime      0\n",
            "dtype: int64\n",
            "\n",
            "Missing data in Content.csv:\n",
            "Unnamed: 0    0\n",
            "Content ID    0\n",
            "User ID       0\n",
            "Type          0\n",
            "Category      0\n",
            "URL           0\n",
            "dtype: int64\n"
          ]
        }
      ]
    },
    {
      "cell_type": "code",
      "source": [
        "# Check for duplicates in ReactionTypes.csv\n",
        "print(\"Duplicate rows in ReactionTypes.csv:\")\n",
        "print(reaction_types_df[reaction_types_df.duplicated()])\n",
        "\n",
        "# Check for duplicates in Reactions.csv\n",
        "print(\"\\nDuplicate rows in Reactions.csv:\")\n",
        "print(reactions_df[reactions_df.duplicated()])\n",
        "\n",
        "# Check for duplicates in Content.csv\n",
        "print(\"\\nDuplicate rows in Content.csv:\")\n",
        "print(content_df[content_df.duplicated()])\n"
      ],
      "metadata": {
        "colab": {
          "base_uri": "https://localhost:8080/"
        },
        "id": "sEtPKHD7dWsx",
        "outputId": "7ca8e4ea-ea8d-4e7b-c998-2eba21dd94a6"
      },
      "execution_count": 7,
      "outputs": [
        {
          "output_type": "stream",
          "name": "stdout",
          "text": [
            "Duplicate rows in ReactionTypes.csv:\n",
            "Empty DataFrame\n",
            "Columns: [Unnamed: 0, Type, Sentiment, Score]\n",
            "Index: []\n",
            "\n",
            "Duplicate rows in Reactions.csv:\n",
            "Empty DataFrame\n",
            "Columns: [Unnamed: 0, Content ID, User ID, Type, Datetime]\n",
            "Index: []\n",
            "\n",
            "Duplicate rows in Content.csv:\n",
            "Empty DataFrame\n",
            "Columns: [Unnamed: 0, Content ID, User ID, Type, Category, URL]\n",
            "Index: []\n"
          ]
        }
      ]
    },
    {
      "cell_type": "code",
      "source": [
        "# Drop the 'URL' column from the Content.csv DataFrame\n",
        "content_df.drop(columns=['URL'], inplace=True)\n",
        "\n",
        "# Verify the changes\n",
        "print(content_df.head())  # Display the first few rows of the DataFrame to confirm that the 'URL' column has been removed\n"
      ],
      "metadata": {
        "colab": {
          "base_uri": "https://localhost:8080/"
        },
        "id": "MIIbDNffdhb3",
        "outputId": "4a3b44b4-431e-48da-ffdd-95eb23e2979f"
      },
      "execution_count": 8,
      "outputs": [
        {
          "output_type": "stream",
          "name": "stdout",
          "text": [
            "   Unnamed: 0                            Content ID  \\\n",
            "0           0  97522e57-d9ab-4bd6-97bf-c24d952602d2   \n",
            "1           1  9f737e0a-3cdd-4d29-9d24-753f4e3be810   \n",
            "2           2  230c4e4d-70c3-461d-b42c-ec09396efb3f   \n",
            "3           3  356fff80-da4d-4785-9f43-bc1261031dc6   \n",
            "4           4  01ab84dd-6364-4236-abbb-3f237db77180   \n",
            "\n",
            "                                User ID   Type        Category  \n",
            "0  8d3cd87d-8a31-4935-9a4f-b319bfe05f31  photo        Studying  \n",
            "1  beb1f34e-7870-46d6-9fc7-2e12eb83ce43  photo  healthy eating  \n",
            "2  a5c65404-5894-4b87-82f2-d787cbee86b4  photo  healthy eating  \n",
            "3  9fb4ce88-fac1-406c-8544-1a899cee7aaf  photo      technology  \n",
            "4  e206e31b-5f85-4964-b6ea-d7ee5324def1  video            food  \n"
          ]
        }
      ]
    },
    {
      "cell_type": "code",
      "source": [
        "# Remove quotation marks from the 'Category' column\n",
        "content_df['Category'] = content_df['Category'].str.replace('\"', '')\n",
        "\n",
        "# Verify the changes\n",
        "print(content_df.head())  # Display the first few rows of the DataFrame to confirm that the quotation marks have been removed from the 'Category' column\n"
      ],
      "metadata": {
        "colab": {
          "base_uri": "https://localhost:8080/"
        },
        "id": "jDCWnADweMsJ",
        "outputId": "95100ed1-9812-44ee-a5c6-ef6be3803545"
      },
      "execution_count": 11,
      "outputs": [
        {
          "output_type": "stream",
          "name": "stdout",
          "text": [
            "   Unnamed: 0                            Content ID  \\\n",
            "0           0  97522e57-d9ab-4bd6-97bf-c24d952602d2   \n",
            "1           1  9f737e0a-3cdd-4d29-9d24-753f4e3be810   \n",
            "2           2  230c4e4d-70c3-461d-b42c-ec09396efb3f   \n",
            "3           3  356fff80-da4d-4785-9f43-bc1261031dc6   \n",
            "4           4  01ab84dd-6364-4236-abbb-3f237db77180   \n",
            "\n",
            "                                User ID   Type        Category  \n",
            "0  8d3cd87d-8a31-4935-9a4f-b319bfe05f31  photo        Studying  \n",
            "1  beb1f34e-7870-46d6-9fc7-2e12eb83ce43  photo  healthy eating  \n",
            "2  a5c65404-5894-4b87-82f2-d787cbee86b4  photo  healthy eating  \n",
            "3  9fb4ce88-fac1-406c-8544-1a899cee7aaf  photo      technology  \n",
            "4  e206e31b-5f85-4964-b6ea-d7ee5324def1  video            food  \n"
          ]
        }
      ]
    },
    {
      "cell_type": "code",
      "source": [
        "# Rename the 'Category' column to 'Content Type'\n",
        "content_df.rename(columns={'Category': 'Content Type'}, inplace=True)\n",
        "\n",
        "# Verify the changes\n",
        "print(content_df.head())  # Display the first few rows of the DataFrame to confirm that the column name has been changed\n"
      ],
      "metadata": {
        "colab": {
          "base_uri": "https://localhost:8080/"
        },
        "id": "oXgITdEHejRn",
        "outputId": "020be0c0-6d02-488d-f419-129dc2fc4294"
      },
      "execution_count": 12,
      "outputs": [
        {
          "output_type": "stream",
          "name": "stdout",
          "text": [
            "   Unnamed: 0                            Content ID  \\\n",
            "0           0  97522e57-d9ab-4bd6-97bf-c24d952602d2   \n",
            "1           1  9f737e0a-3cdd-4d29-9d24-753f4e3be810   \n",
            "2           2  230c4e4d-70c3-461d-b42c-ec09396efb3f   \n",
            "3           3  356fff80-da4d-4785-9f43-bc1261031dc6   \n",
            "4           4  01ab84dd-6364-4236-abbb-3f237db77180   \n",
            "\n",
            "                                User ID   Type    Content Type  \n",
            "0  8d3cd87d-8a31-4935-9a4f-b319bfe05f31  photo        Studying  \n",
            "1  beb1f34e-7870-46d6-9fc7-2e12eb83ce43  photo  healthy eating  \n",
            "2  a5c65404-5894-4b87-82f2-d787cbee86b4  photo  healthy eating  \n",
            "3  9fb4ce88-fac1-406c-8544-1a899cee7aaf  photo      technology  \n",
            "4  e206e31b-5f85-4964-b6ea-d7ee5324def1  video            food  \n"
          ]
        }
      ]
    },
    {
      "cell_type": "code",
      "source": [
        "# Remove blank rows from the Reactions.csv DataFrame\n",
        "reactions_df.dropna(inplace=True)\n",
        "\n",
        "# Verify the changes\n",
        "print(reactions_df.head())  # Display the first few rows of the DataFrame to confirm that blank rows have been removed\n"
      ],
      "metadata": {
        "colab": {
          "base_uri": "https://localhost:8080/"
        },
        "id": "n6-jl5rNe4Uu",
        "outputId": "dc3b3c11-526c-4482-db9d-5c22ac0063f0"
      },
      "execution_count": 13,
      "outputs": [
        {
          "output_type": "stream",
          "name": "stdout",
          "text": [
            "   Unnamed: 0                            Content ID  \\\n",
            "1           1  97522e57-d9ab-4bd6-97bf-c24d952602d2   \n",
            "2           2  97522e57-d9ab-4bd6-97bf-c24d952602d2   \n",
            "3           3  97522e57-d9ab-4bd6-97bf-c24d952602d2   \n",
            "4           4  97522e57-d9ab-4bd6-97bf-c24d952602d2   \n",
            "5           5  97522e57-d9ab-4bd6-97bf-c24d952602d2   \n",
            "\n",
            "                                User ID        Type             Datetime  \n",
            "1  5d454588-283d-459d-915d-c48a2cb4c27f     disgust  2020-11-07 09:43:50  \n",
            "2  92b87fa5-f271-43e0-af66-84fac21052e6     dislike  2021-06-17 12:22:51  \n",
            "3  163daa38-8b77-48c9-9af6-37a6c1447ac2      scared  2021-04-18 05:13:58  \n",
            "4  34e8add9-0206-47fd-a501-037b994650a2     disgust  2021-01-06 19:13:01  \n",
            "5  9b6d35f9-5e15-4cd0-a8d7-b1f3340e02c4  interested  2020-08-23 12:25:58  \n"
          ]
        }
      ]
    },
    {
      "cell_type": "code",
      "source": [
        "# Delete the 'User ID' column from the Reactions.csv DataFrame\n",
        "reactions_df.drop(columns=['User ID'], inplace=True)\n",
        "\n",
        "# Delete the 'User ID' column from the Content.csv DataFrame\n",
        "content_df.drop(columns=['User ID'], inplace=True)\n",
        "\n",
        "# Verify the changes\n",
        "print(reactions_df.head())  # Display the first few rows of the Reactions.csv DataFrame to confirm that the 'User ID' column has been removed\n",
        "print(content_df.head())    # Display the first few rows of the Content.csv DataFrame to confirm that the 'User ID' column has been removed\n"
      ],
      "metadata": {
        "colab": {
          "base_uri": "https://localhost:8080/"
        },
        "id": "6H18bPuifKkO",
        "outputId": "b9f8c687-1dfa-4613-d7cd-56f3631e05c4"
      },
      "execution_count": 14,
      "outputs": [
        {
          "output_type": "stream",
          "name": "stdout",
          "text": [
            "   Unnamed: 0                            Content ID        Type  \\\n",
            "1           1  97522e57-d9ab-4bd6-97bf-c24d952602d2     disgust   \n",
            "2           2  97522e57-d9ab-4bd6-97bf-c24d952602d2     dislike   \n",
            "3           3  97522e57-d9ab-4bd6-97bf-c24d952602d2      scared   \n",
            "4           4  97522e57-d9ab-4bd6-97bf-c24d952602d2     disgust   \n",
            "5           5  97522e57-d9ab-4bd6-97bf-c24d952602d2  interested   \n",
            "\n",
            "              Datetime  \n",
            "1  2020-11-07 09:43:50  \n",
            "2  2021-06-17 12:22:51  \n",
            "3  2021-04-18 05:13:58  \n",
            "4  2021-01-06 19:13:01  \n",
            "5  2020-08-23 12:25:58  \n",
            "   Unnamed: 0                            Content ID   Type    Content Type\n",
            "0           0  97522e57-d9ab-4bd6-97bf-c24d952602d2  photo        Studying\n",
            "1           1  9f737e0a-3cdd-4d29-9d24-753f4e3be810  photo  healthy eating\n",
            "2           2  230c4e4d-70c3-461d-b42c-ec09396efb3f  photo  healthy eating\n",
            "3           3  356fff80-da4d-4785-9f43-bc1261031dc6  photo      technology\n",
            "4           4  01ab84dd-6364-4236-abbb-3f237db77180  video            food\n"
          ]
        }
      ]
    },
    {
      "cell_type": "code",
      "source": [
        "# Print the latest shape of each DataFrame\n",
        "print(\"Latest shape of ReactionTypes.csv:\", reaction_types_df.shape)\n",
        "print(\"Latest shape of Reactions.csv:\", reactions_df.shape)\n",
        "print(\"Latest shape of Content.csv:\", content_df.shape)\n"
      ],
      "metadata": {
        "colab": {
          "base_uri": "https://localhost:8080/"
        },
        "id": "qbFngwAXfgc7",
        "outputId": "569063fc-fcbb-4a4c-877f-5b5365d955c5"
      },
      "execution_count": 15,
      "outputs": [
        {
          "output_type": "stream",
          "name": "stdout",
          "text": [
            "Latest shape of ReactionTypes.csv: (16, 4)\n",
            "Latest shape of Reactions.csv: (22534, 4)\n",
            "Latest shape of Content.csv: (801, 4)\n"
          ]
        }
      ]
    },
    {
      "cell_type": "code",
      "source": [
        "# Check the number of rows in the Reactions.csv DataFrame\n",
        "num_rows_reactions = reactions_df.shape[0]\n",
        "print(\"Number of rows in Reactions.csv:\", num_rows_reactions)\n"
      ],
      "metadata": {
        "colab": {
          "base_uri": "https://localhost:8080/"
        },
        "id": "XB4lprt3fxT2",
        "outputId": "373670c1-d613-47b0-949a-9ca707f95e06"
      },
      "execution_count": 16,
      "outputs": [
        {
          "output_type": "stream",
          "name": "stdout",
          "text": [
            "Number of rows in Reactions.csv: 22534\n"
          ]
        }
      ]
    },
    {
      "cell_type": "code",
      "source": [
        "import pandas as pd\n",
        "import matplotlib.pyplot as plt\n",
        "\n",
        "# Load the data\n",
        "data_url = \"https://cdn.theforage.com/vinternships/companyassets/T6kdcdKSTfg2aotxT/MsAqi7SNLKw3C6LAr/1664564187354/Task%203_Final%20Content%20Data%20set.csv\"\n",
        "df = pd.read_csv(data_url)\n",
        "\n",
        "# Count the occurrences of each content type\n",
        "content_type_counts = df['Content Type'].value_counts()\n",
        "\n",
        "# Create a bar plot\n",
        "plt.figure(figsize=(10, 6))\n",
        "content_type_counts.plot(kind='bar')\n",
        "plt.title('Distribution of Content Types')\n",
        "plt.xlabel('Content Type')\n",
        "plt.ylabel('Count')\n",
        "plt.xticks(rotation=45)\n",
        "plt.grid(axis='y')\n",
        "plt.tight_layout()\n",
        "plt.show()\n"
      ],
      "metadata": {
        "colab": {
          "base_uri": "https://localhost:8080/",
          "height": 607
        },
        "id": "S58b7B98f4Xi",
        "outputId": "f3addc5f-2b07-48e9-ac27-5ddea67b9170"
      },
      "execution_count": 17,
      "outputs": [
        {
          "output_type": "display_data",
          "data": {
            "text/plain": [
              "<Figure size 1000x600 with 1 Axes>"
            ],
            "image/png": "[encoded data removed]"
          },
          "metadata": {}
        }
      ]
    },
    {
      "cell_type": "code",
      "source": [
        "import pandas as pd\n",
        "import matplotlib.pyplot as plt\n",
        "\n",
        "# Load the data\n",
        "data_url = \"https://cdn.theforage.com/vinternships/companyassets/T6kdcdKSTfg2aotxT/MsAqi7SNLKw3C6LAr/1664564187354/Task%203_Final%20Content%20Data%20set.csv\"\n",
        "df = pd.read_csv(data_url)\n",
        "\n",
        "# Count the occurrences of each content category\n",
        "content_category_counts = df['Content Type'].value_counts()\n",
        "\n",
        "# Get the top 5 content categories\n",
        "top_5_content_categories = content_category_counts.head(5)\n",
        "\n",
        "# Create a pie chart\n",
        "plt.figure(figsize=(10, 6))\n",
        "plt.pie(top_5_content_categories, labels=top_5_content_categories.index, autopct='%1.1f%%', startangle=140)\n",
        "plt.title('Top 5 Content Categories (Pie Chart)')\n",
        "plt.axis('equal')\n",
        "plt.show()\n",
        "\n",
        "# Create a bar chart\n",
        "plt.figure(figsize=(10, 6))\n",
        "top_5_content_categories.plot(kind='bar')\n",
        "plt.title('Top 5 Content Categories (Bar Chart)')\n",
        "plt.xlabel('Content Category')\n",
        "plt.ylabel('Count')\n",
        "plt.xticks(rotation=45)\n",
        "plt.grid(axis='y')\n",
        "plt.tight_layout()\n",
        "plt.show()\n"
      ],
      "metadata": {
        "colab": {
          "base_uri": "https://localhost:8080/",
          "height": 1000
        },
        "id": "VkzRAJrXiwV5",
        "outputId": "1181b6d0-c595-4f10-ef35-e767585b11b9"
      },
      "execution_count": 18,
      "outputs": [
        {
          "output_type": "display_data",
          "data": {
            "text/plain": [
              "<Figure size 1000x600 with 1 Axes>"
            ],
            "image/png": "[encoded data removed]"
          },
          "metadata": {}
        },
        {
          "output_type": "display_data",
          "data": {
            "text/plain": [
              "<Figure size 1000x600 with 1 Axes>"
            ],
            "image/png": "[encoded data removed]"
          },
          "metadata": {}
        }
      ]
    },
    {
      "cell_type": "code",
      "source": [
        "IN THE PIE CHART THE MAJORITY SHARE GOES TO PHOTO = 26.8%, SECONDLY VIDEO = 25.4% AND LAST ARE GIF AND AUDIO"
      ],
      "metadata": {
        "id": "IlpRutezjCBN"
      },
      "execution_count": null,
      "outputs": []
    },
    {
      "cell_type": "code",
      "source": [],
      "metadata": {
        "id": "NzSJD4KUmx8G"
      },
      "execution_count": null,
      "outputs": []
    }
  ]
}