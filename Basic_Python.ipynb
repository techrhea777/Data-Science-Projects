{
  "nbformat": 4,
  "nbformat_minor": 0,
  "metadata": {
    "colab": {
      "provenance": [],
      "authorship_tag": "ABX9TyOdXKrlSCCl5m0Rg9kIDFRU",
      "include_colab_link": true
    },
    "kernelspec": {
      "name": "python3",
      "display_name": "Python 3"
    },
    "language_info": {
      "name": "python"
    }
  },
  "cells": [
    {
      "cell_type": "markdown",
      "metadata": {
        "id": "view-in-github",
        "colab_type": "text"
      },
      "source": [
        "<a href=\"https://colab.research.google.com/github/techrhea777/Data-Science-Projects/blob/main/Basic_Python.ipynb\" target=\"_parent\"><img src=\"https://colab.research.google.com/assets/colab-badge.svg\" alt=\"Open In Colab\"/></a>"
      ]
    },
    {
      "cell_type": "code",
      "execution_count": null,
      "metadata": {
        "id": "_RUjxMbUulJl"
      },
      "outputs": [],
      "source": []
    },
    {
      "cell_type": "markdown",
      "source": [
        "### Arithmetic Operators"
      ],
      "metadata": {
        "id": "1Ba184jcI1jN"
      }
    },
    {
      "cell_type": "code",
      "source": [],
      "metadata": {
        "id": "0VFuVfEGun3-"
      },
      "execution_count": null,
      "outputs": []
    },
    {
      "cell_type": "code",
      "source": [
        "# Adding two numbers\n",
        "\n",
        "2 + 4"
      ],
      "metadata": {
        "id": "Xq1NFvyP7RrZ",
        "colab": {
          "base_uri": "https://localhost:8080/"
        },
        "outputId": "0e0673a4-243a-4f18-c18a-99137c0ac237"
      },
      "execution_count": 1,
      "outputs": [
        {
          "output_type": "execute_result",
          "data": {
            "text/plain": [
              "6"
            ]
          },
          "metadata": {},
          "execution_count": 1
        }
      ]
    },
    {
      "cell_type": "code",
      "source": [],
      "metadata": {
        "id": "p8vVmHiPuq_2"
      },
      "execution_count": null,
      "outputs": []
    },
    {
      "cell_type": "code",
      "source": [
        "# Difference between two numbers\n",
        "\n",
        "10 - 5"
      ],
      "metadata": {
        "id": "tjJSyKvCJCN3",
        "colab": {
          "base_uri": "https://localhost:8080/"
        },
        "outputId": "07e31649-0fc8-42f2-9670-c573b3568c0f"
      },
      "execution_count": 2,
      "outputs": [
        {
          "output_type": "execute_result",
          "data": {
            "text/plain": [
              "5"
            ]
          },
          "metadata": {},
          "execution_count": 2
        }
      ]
    },
    {
      "cell_type": "code",
      "source": [],
      "metadata": {
        "id": "5QjFqbKluuLF"
      },
      "execution_count": null,
      "outputs": []
    },
    {
      "cell_type": "code",
      "source": [
        "#Multiplication\n",
        "\n",
        "2.4 * 2"
      ],
      "metadata": {
        "id": "NieZ5XPR7koi",
        "colab": {
          "base_uri": "https://localhost:8080/"
        },
        "outputId": "3c578d4e-12fd-4217-b901-e53ce12f1e06"
      },
      "execution_count": 3,
      "outputs": [
        {
          "output_type": "execute_result",
          "data": {
            "text/plain": [
              "4.8"
            ]
          },
          "metadata": {},
          "execution_count": 3
        }
      ]
    },
    {
      "cell_type": "code",
      "source": [],
      "metadata": {
        "id": "gkhR8g_MuwA9"
      },
      "execution_count": null,
      "outputs": []
    },
    {
      "cell_type": "code",
      "source": [
        "# Division\n",
        "\n",
        "8/3"
      ],
      "metadata": {
        "id": "TsI3KQzuJNeu",
        "colab": {
          "base_uri": "https://localhost:8080/"
        },
        "outputId": "74263b04-529d-4bee-ac0b-99f55fe5433a"
      },
      "execution_count": 4,
      "outputs": [
        {
          "output_type": "execute_result",
          "data": {
            "text/plain": [
              "2.6666666666666665"
            ]
          },
          "metadata": {},
          "execution_count": 4
        }
      ]
    },
    {
      "cell_type": "code",
      "source": [],
      "metadata": {
        "id": "r64J8kM_ux7M"
      },
      "execution_count": null,
      "outputs": []
    },
    {
      "cell_type": "code",
      "source": [
        "# Exponent\n",
        "\n",
        "2**3"
      ],
      "metadata": {
        "id": "8tPSHz9zJeE3",
        "colab": {
          "base_uri": "https://localhost:8080/"
        },
        "outputId": "c1e6d8ef-61c5-43b6-e28e-08e20598544a"
      },
      "execution_count": 5,
      "outputs": [
        {
          "output_type": "execute_result",
          "data": {
            "text/plain": [
              "8"
            ]
          },
          "metadata": {},
          "execution_count": 5
        }
      ]
    },
    {
      "cell_type": "code",
      "source": [],
      "metadata": {
        "id": "NNmkMh3uuz7s"
      },
      "execution_count": null,
      "outputs": []
    },
    {
      "cell_type": "markdown",
      "source": [
        "### Commenting"
      ],
      "metadata": {
        "id": "qciABVPtRzSH"
      }
    },
    {
      "cell_type": "code",
      "source": [],
      "metadata": {
        "id": "4Q94-kBnu3Yl"
      },
      "execution_count": null,
      "outputs": []
    },
    {
      "cell_type": "code",
      "source": [
        "# As you alreday saw any thing foollwing '#' is not processed by python interpreter\n",
        "''' if there are more than one line\n",
        "you can use the three single quote symbol on either side of the text!\n",
        "See now when you run this cell only the print statement gets executed'''\n",
        "\n",
        "#Adding comments in the code helps one to understand the code better.\n",
        "\n",
        "print('Is this helpful??')"
      ],
      "metadata": {
        "id": "6HtisPe5R3wd",
        "colab": {
          "base_uri": "https://localhost:8080/"
        },
        "outputId": "a6269e80-6a8b-495b-f578-34daf1604267"
      },
      "execution_count": 6,
      "outputs": [
        {
          "output_type": "stream",
          "name": "stdout",
          "text": [
            "Is this helpful??\n"
          ]
        }
      ]
    },
    {
      "cell_type": "code",
      "source": [],
      "metadata": {
        "id": "pXNUpH1Nu5nk"
      },
      "execution_count": null,
      "outputs": []
    },
    {
      "cell_type": "markdown",
      "source": [
        "### printing any content"
      ],
      "metadata": {
        "id": "FQ80RtLbJztC"
      }
    },
    {
      "cell_type": "code",
      "source": [],
      "metadata": {
        "id": "CMNQOXBIu7q8"
      },
      "execution_count": null,
      "outputs": []
    },
    {
      "cell_type": "code",
      "source": [
        "print(10+2)\n",
        "print(20-5)\n",
        "print(3*2)\n",
        "print(10/3)\n",
        "print(3**2)"
      ],
      "metadata": {
        "colab": {
          "base_uri": "https://localhost:8080/"
        },
        "id": "8n8c6kBg10QN",
        "outputId": "fdc8c47e-2af8-4a2b-a474-0e3023a3bfac"
      },
      "execution_count": 7,
      "outputs": [
        {
          "output_type": "stream",
          "name": "stdout",
          "text": [
            "12\n",
            "15\n",
            "6\n",
            "3.3333333333333335\n",
            "9\n"
          ]
        }
      ]
    },
    {
      "cell_type": "code",
      "source": [],
      "metadata": {
        "id": "DDqirPVlu9cW"
      },
      "execution_count": null,
      "outputs": []
    },
    {
      "cell_type": "code",
      "source": [],
      "metadata": {
        "id": "ljp9c03qu_Vs"
      },
      "execution_count": null,
      "outputs": []
    },
    {
      "cell_type": "code",
      "source": [
        "print(\"Sum=\",10+2)\n",
        "print(\"Difference=\", 20-5)\n",
        "print(\"Product =\", 3*2)\n",
        "print(\"Quotient =\", 10/3)\n",
        "print(\"Exponent =\", 3**2)"
      ],
      "metadata": {
        "colab": {
          "base_uri": "https://localhost:8080/"
        },
        "id": "d37QpRN22Azt",
        "outputId": "10dd7a43-a233-409c-ca84-170532317a8d"
      },
      "execution_count": 9,
      "outputs": [
        {
          "output_type": "stream",
          "name": "stdout",
          "text": [
            "Sum= 12\n",
            "Difference= 15\n",
            "Product = 6\n",
            "Quotient = 3.3333333333333335\n",
            "Exponent = 9\n"
          ]
        }
      ]
    },
    {
      "cell_type": "code",
      "source": [],
      "metadata": {
        "id": "oQKHuBj1vFDk"
      },
      "execution_count": null,
      "outputs": []
    },
    {
      "cell_type": "markdown",
      "source": [
        "### Variables"
      ],
      "metadata": {
        "id": "uet9wM-yK2k3"
      }
    },
    {
      "cell_type": "code",
      "source": [],
      "metadata": {
        "id": "F0m2TnL8vHf7"
      },
      "execution_count": null,
      "outputs": []
    },
    {
      "cell_type": "code",
      "source": [
        "#variables\n",
        "num1 = 100\n",
        "num2 = 200\n",
        "sum = num1 + num2\n",
        "print(sum)\n",
        "\n",
        "Difference = 20-5\n",
        "Product = 3*2\n",
        "Quotient = 10/3\n",
        "Exponent = 3**2\n",
        "\n",
        "print(Difference)\n",
        "print(Product)\n",
        "print(Quotient)\n",
        "print(Exponent)"
      ],
      "metadata": {
        "colab": {
          "base_uri": "https://localhost:8080/"
        },
        "id": "IKjljDzd2fVi",
        "outputId": "957cdfb4-1acc-45fc-c7fd-9a85f2bbb30f"
      },
      "execution_count": 10,
      "outputs": [
        {
          "output_type": "stream",
          "name": "stdout",
          "text": [
            "300\n",
            "15\n",
            "6\n",
            "3.3333333333333335\n",
            "9\n"
          ]
        }
      ]
    },
    {
      "cell_type": "code",
      "source": [],
      "metadata": {
        "id": "pbQSf-dIvLUU"
      },
      "execution_count": null,
      "outputs": []
    },
    {
      "cell_type": "markdown",
      "source": [
        "### Data Types"
      ],
      "metadata": {
        "id": "n2agourDITnc"
      }
    },
    {
      "cell_type": "code",
      "source": [],
      "metadata": {
        "id": "C_FENINhvOWD"
      },
      "execution_count": null,
      "outputs": []
    },
    {
      "cell_type": "code",
      "source": [
        "#Numeric variables - Integer, Float\n",
        "\n",
        "var1 = 10\n",
        "var2 = 20.5\n",
        "var1+var2"
      ],
      "metadata": {
        "colab": {
          "base_uri": "https://localhost:8080/"
        },
        "id": "SaXgr6nR24aS",
        "outputId": "18c711b7-f869-46bf-e0a0-df120b2728e2"
      },
      "execution_count": 11,
      "outputs": [
        {
          "output_type": "execute_result",
          "data": {
            "text/plain": [
              "30.5"
            ]
          },
          "metadata": {},
          "execution_count": 11
        }
      ]
    },
    {
      "cell_type": "code",
      "source": [],
      "metadata": {
        "id": "HvirFsvcvQAr"
      },
      "execution_count": null,
      "outputs": []
    },
    {
      "cell_type": "code",
      "source": [
        "#Text Variables - string\n",
        "\n",
        "var3 = 'Hello'\n",
        "var4 = 'World'\n",
        "\n",
        "print(var3)\n",
        "print(var4)"
      ],
      "metadata": {
        "id": "F4pnnl6k8roa",
        "colab": {
          "base_uri": "https://localhost:8080/"
        },
        "outputId": "74c07425-5a7a-40ad-8034-a45599efea73"
      },
      "execution_count": 12,
      "outputs": [
        {
          "output_type": "stream",
          "name": "stdout",
          "text": [
            "Hello\n",
            "World\n"
          ]
        }
      ]
    },
    {
      "cell_type": "code",
      "source": [],
      "metadata": {
        "id": "ZUwf8Uk2vTCT"
      },
      "execution_count": null,
      "outputs": []
    },
    {
      "cell_type": "code",
      "source": [
        "#True/False variable - Boolean\n",
        "check = (2 == 5)\n",
        "print(check)"
      ],
      "metadata": {
        "id": "ayF6qoLF7pKr",
        "colab": {
          "base_uri": "https://localhost:8080/"
        },
        "outputId": "c3a82132-f5cb-40d3-9cf4-2880b9fb6efe"
      },
      "execution_count": 14,
      "outputs": [
        {
          "output_type": "stream",
          "name": "stdout",
          "text": [
            "False\n"
          ]
        }
      ]
    },
    {
      "cell_type": "code",
      "source": [],
      "metadata": {
        "id": "fJ_MhYUvvVji"
      },
      "execution_count": null,
      "outputs": []
    },
    {
      "cell_type": "code",
      "source": [
        "#adding text/string variables\n",
        "moduleCode = 'COMP1880 '\n",
        "module_name = \"Data Science for Medical Applications\"\n",
        "\n",
        "print(moduleCode + module_name)"
      ],
      "metadata": {
        "colab": {
          "base_uri": "https://localhost:8080/"
        },
        "id": "x8ZqToWf3V-_",
        "outputId": "cf8048dc-b3f5-47d3-a3c5-59646a07b059"
      },
      "execution_count": 15,
      "outputs": [
        {
          "output_type": "stream",
          "name": "stdout",
          "text": [
            "COMP1880 Data Science for Medical Applications\n"
          ]
        }
      ]
    },
    {
      "cell_type": "code",
      "source": [],
      "metadata": {
        "id": "AE2svtZBvdTy"
      },
      "execution_count": null,
      "outputs": []
    },
    {
      "cell_type": "markdown",
      "source": [
        "### Type Casting"
      ],
      "metadata": {
        "id": "CBZKYu6VOUbx"
      }
    },
    {
      "cell_type": "code",
      "source": [],
      "metadata": {
        "id": "ocO8__TNvfri"
      },
      "execution_count": null,
      "outputs": []
    },
    {
      "cell_type": "code",
      "source": [
        "print(float(10))\n",
        "print(int(20.87965))\n",
        "print(str(100))\n",
        "print(int(\"65\"))\n",
        "print(round(20.5796))"
      ],
      "metadata": {
        "colab": {
          "base_uri": "https://localhost:8080/"
        },
        "id": "gPnecCgd3oUM",
        "outputId": "6dd0a04d-3319-4f7d-e5be-7076780c694e"
      },
      "execution_count": 16,
      "outputs": [
        {
          "output_type": "stream",
          "name": "stdout",
          "text": [
            "10.0\n",
            "20\n",
            "100\n",
            "65\n",
            "21\n"
          ]
        }
      ]
    },
    {
      "cell_type": "code",
      "source": [],
      "metadata": {
        "id": "MoJRpSWAvhji"
      },
      "execution_count": null,
      "outputs": []
    },
    {
      "cell_type": "markdown",
      "source": [
        "### Printing special symbols"
      ],
      "metadata": {
        "id": "JtGQ1pazRiiw"
      }
    },
    {
      "cell_type": "code",
      "source": [],
      "metadata": {
        "id": "lKJqokUYvkBq"
      },
      "execution_count": null,
      "outputs": []
    },
    {
      "cell_type": "code",
      "source": [
        "#printing apostrophe symbol in python\n",
        "print(\"My name isn't Michele\")\n",
        "print('My name isn\\'t Michele')\n"
      ],
      "metadata": {
        "colab": {
          "base_uri": "https://localhost:8080/"
        },
        "id": "wu6mRK3MQbKf",
        "outputId": "9c75f493-c29d-4687-edf8-b5e93d0b9d99"
      },
      "execution_count": 17,
      "outputs": [
        {
          "output_type": "stream",
          "name": "stdout",
          "text": [
            "My name isn't Michele\n",
            "My name isn't Michele\n"
          ]
        }
      ]
    },
    {
      "cell_type": "code",
      "source": [],
      "metadata": {
        "id": "uhOyiyPkvmUK"
      },
      "execution_count": null,
      "outputs": []
    },
    {
      "cell_type": "markdown",
      "source": [
        "### Data Structures in Python - List"
      ],
      "metadata": {
        "id": "K_yMjhheSwQU"
      }
    },
    {
      "cell_type": "code",
      "source": [],
      "metadata": {
        "id": "_jl7pKiavpHy"
      },
      "execution_count": null,
      "outputs": []
    },
    {
      "cell_type": "code",
      "source": [
        "#Python List\n",
        "#Lists can hold more than one value and can be fetched/operated individually\n",
        "#To declare a list, you will need to use square brackets, []\n",
        "\n",
        "\n",
        "var5 =['I', 'am', 'learning', 'data', 'science', 1000]\n",
        "print(var5)"
      ],
      "metadata": {
        "id": "gKYaIjY99t5Q",
        "colab": {
          "base_uri": "https://localhost:8080/"
        },
        "outputId": "1233f1b1-eb76-4c06-ce71-1e608a3fac7d"
      },
      "execution_count": 18,
      "outputs": [
        {
          "output_type": "stream",
          "name": "stdout",
          "text": [
            "['I', 'am', 'learning', 'data', 'science', 1000]\n"
          ]
        }
      ]
    },
    {
      "cell_type": "code",
      "source": [],
      "metadata": {
        "id": "oRfSft_KvsX6"
      },
      "execution_count": null,
      "outputs": []
    },
    {
      "cell_type": "code",
      "source": [
        "# Python is zero-indexed, i.e. counting starts from zero\n",
        "\n",
        "var5[0]"
      ],
      "metadata": {
        "id": "O8E8zTtS75Q8",
        "colab": {
          "base_uri": "https://localhost:8080/",
          "height": 35
        },
        "outputId": "989a4cc7-a9dc-4575-f7de-388a82b6f6ee"
      },
      "execution_count": 19,
      "outputs": [
        {
          "output_type": "execute_result",
          "data": {
            "text/plain": [
              "'I'"
            ],
            "application/vnd.google.colaboratory.intrinsic+json": {
              "type": "string"
            }
          },
          "metadata": {},
          "execution_count": 19
        }
      ]
    },
    {
      "cell_type": "code",
      "source": [],
      "metadata": {
        "id": "2HlNyJ_OvwHi"
      },
      "execution_count": null,
      "outputs": []
    },
    {
      "cell_type": "code",
      "source": [
        "#A list can have different item types, so you can mix numerical and text variables in it\n",
        "\n",
        "var6 = ['I', 'have', 150, 'hours', 'to', 'learn', 'data science']\n",
        "print(var6)"
      ],
      "metadata": {
        "id": "Lguxylc3-HfE",
        "colab": {
          "base_uri": "https://localhost:8080/"
        },
        "outputId": "025e036f-c26d-41ba-9db6-9101aa3972d5"
      },
      "execution_count": 20,
      "outputs": [
        {
          "output_type": "stream",
          "name": "stdout",
          "text": [
            "['I', 'have', 150, 'hours', 'to', 'learn', 'data science']\n"
          ]
        }
      ]
    },
    {
      "cell_type": "code",
      "source": [],
      "metadata": {
        "id": "5ScQvJa6v0Ja"
      },
      "execution_count": null,
      "outputs": []
    },
    {
      "cell_type": "code",
      "source": [
        "# we ask for the length of 'var6' with the built-in function len()\n",
        "len(var6)"
      ],
      "metadata": {
        "id": "C5zzaDdq8FuL",
        "colab": {
          "base_uri": "https://localhost:8080/"
        },
        "outputId": "52937d66-923e-4bb7-9c87-1cec95f2b313"
      },
      "execution_count": 21,
      "outputs": [
        {
          "output_type": "execute_result",
          "data": {
            "text/plain": [
              "7"
            ]
          },
          "metadata": {},
          "execution_count": 21
        }
      ]
    },
    {
      "cell_type": "code",
      "source": [],
      "metadata": {
        "id": "aFxZvXG5v2Tb"
      },
      "execution_count": null,
      "outputs": []
    },
    {
      "cell_type": "code",
      "source": [
        "#Accessing different elements from the list. In Python, all indexes start at 0\n",
        "print(var6[0])\n",
        "print(var6[2])"
      ],
      "metadata": {
        "id": "ZbL4WnXT-wXb",
        "colab": {
          "base_uri": "https://localhost:8080/"
        },
        "outputId": "7b988857-5b77-48e8-91e8-748cfac1f421"
      },
      "execution_count": 22,
      "outputs": [
        {
          "output_type": "stream",
          "name": "stdout",
          "text": [
            "I\n",
            "150\n"
          ]
        }
      ]
    },
    {
      "cell_type": "code",
      "source": [],
      "metadata": {
        "id": "ZaB7-f-mv4Xq"
      },
      "execution_count": null,
      "outputs": []
    },
    {
      "cell_type": "code",
      "source": [
        "#Python provides an API to access a range of items using the : operator.\n",
        "print(var6[0:4])"
      ],
      "metadata": {
        "id": "U61xvNfKZjg8",
        "colab": {
          "base_uri": "https://localhost:8080/"
        },
        "outputId": "08731eae-0fab-4983-d402-233a8b96e5bf"
      },
      "execution_count": 23,
      "outputs": [
        {
          "output_type": "stream",
          "name": "stdout",
          "text": [
            "['I', 'have', 150, 'hours']\n"
          ]
        }
      ]
    },
    {
      "cell_type": "code",
      "source": [],
      "metadata": {
        "id": "EgFSEFAYv7MC"
      },
      "execution_count": null,
      "outputs": []
    },
    {
      "cell_type": "code",
      "source": [
        "#we want the first item, and the second item onwards\n",
        "\n",
        "var5[0:]"
      ],
      "metadata": {
        "id": "DYVCn4OCcKez",
        "colab": {
          "base_uri": "https://localhost:8080/"
        },
        "outputId": "ca00d0a3-7b39-48a8-916f-72245802c462"
      },
      "execution_count": 24,
      "outputs": [
        {
          "output_type": "execute_result",
          "data": {
            "text/plain": [
              "['I', 'am', 'learning', 'data', 'science', 1000]"
            ]
          },
          "metadata": {},
          "execution_count": 24
        }
      ]
    },
    {
      "cell_type": "code",
      "source": [],
      "metadata": {
        "id": "-GZAH7H0v9xK"
      },
      "execution_count": null,
      "outputs": []
    },
    {
      "cell_type": "code",
      "source": [
        "#you can also iterate through every item of a list using a for loop\n",
        "\n",
        "for item in var6:\n",
        "  print(item)"
      ],
      "metadata": {
        "id": "wqATf8nYZ-f8",
        "colab": {
          "base_uri": "https://localhost:8080/"
        },
        "outputId": "75cb3ac4-4679-44cb-a69d-2d5aba3f809e"
      },
      "execution_count": 25,
      "outputs": [
        {
          "output_type": "stream",
          "name": "stdout",
          "text": [
            "I\n",
            "have\n",
            "150\n",
            "hours\n",
            "to\n",
            "learn\n",
            "data science\n"
          ]
        }
      ]
    },
    {
      "cell_type": "code",
      "source": [],
      "metadata": {
        "id": "OViFdX-nwBGR"
      },
      "execution_count": null,
      "outputs": []
    },
    {
      "cell_type": "code",
      "source": [
        "#You can add an item at the end of the list using the .append() method\n",
        "var6.append(2023)\n",
        "var6.append(2024)\n",
        "print(var6)"
      ],
      "metadata": {
        "id": "GZCxd_0LaOMa",
        "colab": {
          "base_uri": "https://localhost:8080/"
        },
        "outputId": "78bd52e6-848b-42d0-e843-e781b7cfb3c6"
      },
      "execution_count": 26,
      "outputs": [
        {
          "output_type": "stream",
          "name": "stdout",
          "text": [
            "['I', 'have', 150, 'hours', 'to', 'learn', 'data science', 2023, 2024]\n"
          ]
        }
      ]
    },
    {
      "cell_type": "code",
      "source": [],
      "metadata": {
        "id": "tJEizXQqwGgS"
      },
      "execution_count": null,
      "outputs": []
    },
    {
      "cell_type": "code",
      "source": [
        "#To delete an item from the list, you use the .remove() method:\n",
        "\n",
        "var6.remove(2023)\n",
        "print(var6)"
      ],
      "metadata": {
        "id": "aSjasT46ar5g",
        "colab": {
          "base_uri": "https://localhost:8080/"
        },
        "outputId": "196a28cc-b4ff-4df5-f514-dfed14847ce9"
      },
      "execution_count": 27,
      "outputs": [
        {
          "output_type": "stream",
          "name": "stdout",
          "text": [
            "['I', 'have', 150, 'hours', 'to', 'learn', 'data science', 2024]\n"
          ]
        }
      ]
    },
    {
      "cell_type": "code",
      "source": [],
      "metadata": {
        "id": "ezOiXPb4wI7G"
      },
      "execution_count": null,
      "outputs": []
    },
    {
      "cell_type": "markdown",
      "source": [
        "##Another very popular Python variable used by data scientists is the dictionary type.\n"
      ],
      "metadata": {
        "id": "4q-6Nt0zfIP1"
      }
    },
    {
      "cell_type": "code",
      "source": [],
      "metadata": {
        "id": "PRMDpCEYwLAR"
      },
      "execution_count": null,
      "outputs": []
    },
    {
      "cell_type": "code",
      "source": [
        "#Python Dictionary\n",
        "\n",
        "#Another very popular Python variable used by data scientists is the dictionary type.\n",
        "# if more than one line has to be commented you can use enclose the content between three quotes ''' multiple lines text '''\n",
        "\n",
        "'''\n",
        "A dictionary contains multiple elements, like a list, but each element is organized as a key-value pair.\n",
        "A dictionary is not indexed by numbers but by keys. So, to access a specific value, you will have to call the item by its corresponding key.\n",
        "To define a dictionary in Python, you will use curly brackets, {}, and specify the keys and values separated by :, as shown here '''\n",
        "\n",
        "var7 = {'Module ID': 'COMP 1880', 'Module Name': 'Data Science for Medical Applications'}\n",
        "print(var7)"
      ],
      "metadata": {
        "id": "wWCL9SlYa7gH",
        "colab": {
          "base_uri": "https://localhost:8080/"
        },
        "outputId": "40b69276-3fe7-4c67-a42e-b6a0b2f6147a"
      },
      "execution_count": 28,
      "outputs": [
        {
          "output_type": "stream",
          "name": "stdout",
          "text": [
            "{'Module ID': 'COMP 1880', 'Module Name': 'Data Science for Medical Applications'}\n"
          ]
        }
      ]
    },
    {
      "cell_type": "code",
      "source": [],
      "metadata": {
        "id": "2VOQ7lw_wMtJ"
      },
      "execution_count": null,
      "outputs": []
    },
    {
      "cell_type": "code",
      "source": [
        "var7= {'Module ID': 'comp 1880', 'Module Name': 'Data Science for Medical Applications'}\n",
        "print(var7)"
      ],
      "metadata": {
        "colab": {
          "base_uri": "https://localhost:8080/"
        },
        "id": "0LQ38Wl15nlM",
        "outputId": "21b2625a-1a02-45e0-a88c-9312514005d2"
      },
      "execution_count": 29,
      "outputs": [
        {
          "output_type": "stream",
          "name": "stdout",
          "text": [
            "{'Module ID': 'comp 1880', 'Module Name': 'Data Science for Medical Applications'}\n"
          ]
        }
      ]
    },
    {
      "cell_type": "code",
      "source": [],
      "metadata": {
        "id": "sSPUOjppwPp6"
      },
      "execution_count": null,
      "outputs": []
    },
    {
      "cell_type": "code",
      "source": [
        "var7['Module ID']"
      ],
      "metadata": {
        "id": "OxZh9aHHcg60",
        "colab": {
          "base_uri": "https://localhost:8080/",
          "height": 35
        },
        "outputId": "90655183-c30c-4c2c-db5a-8125b858a3c3"
      },
      "execution_count": 30,
      "outputs": [
        {
          "output_type": "execute_result",
          "data": {
            "text/plain": [
              "'comp 1880'"
            ],
            "application/vnd.google.colaboratory.intrinsic+json": {
              "type": "string"
            }
          },
          "metadata": {},
          "execution_count": 30
        }
      ]
    },
    {
      "cell_type": "code",
      "source": [],
      "metadata": {
        "id": "WU54oOApwRvR"
      },
      "execution_count": null,
      "outputs": []
    },
    {
      "cell_type": "code",
      "source": [
        "var7['Module Name']"
      ],
      "metadata": {
        "colab": {
          "base_uri": "https://localhost:8080/",
          "height": 35
        },
        "id": "pk9Ixznd6Gyc",
        "outputId": "48f98855-29a3-4631-8540-d098956b0efb"
      },
      "execution_count": 31,
      "outputs": [
        {
          "output_type": "execute_result",
          "data": {
            "text/plain": [
              "'Data Science for Medical Applications'"
            ],
            "application/vnd.google.colaboratory.intrinsic+json": {
              "type": "string"
            }
          },
          "metadata": {},
          "execution_count": 31
        }
      ]
    },
    {
      "cell_type": "code",
      "source": [],
      "metadata": {
        "id": "DY0LkiWhwTsh"
      },
      "execution_count": null,
      "outputs": []
    },
    {
      "cell_type": "code",
      "source": [
        "var7.keys()"
      ],
      "metadata": {
        "colab": {
          "base_uri": "https://localhost:8080/"
        },
        "id": "BuuFlBUB6OsJ",
        "outputId": "f90498df-8434-47e7-c530-d0e697e5cac0"
      },
      "execution_count": 32,
      "outputs": [
        {
          "output_type": "execute_result",
          "data": {
            "text/plain": [
              "dict_keys(['Module ID', 'Module Name'])"
            ]
          },
          "metadata": {},
          "execution_count": 32
        }
      ]
    },
    {
      "cell_type": "code",
      "source": [],
      "metadata": {
        "id": "UxKMGPDawWOI"
      },
      "execution_count": null,
      "outputs": []
    },
    {
      "cell_type": "code",
      "source": [
        "var7.values()"
      ],
      "metadata": {
        "colab": {
          "base_uri": "https://localhost:8080/"
        },
        "id": "RpU8BNtD6ZJ5",
        "outputId": "035e2873-bfa4-4698-eac4-7eaae891b059"
      },
      "execution_count": 33,
      "outputs": [
        {
          "output_type": "execute_result",
          "data": {
            "text/plain": [
              "dict_values(['comp 1880', 'Data Science for Medical Applications'])"
            ]
          },
          "metadata": {},
          "execution_count": 33
        }
      ]
    },
    {
      "cell_type": "code",
      "source": [],
      "metadata": {
        "id": "FCFzlqSjwYVg"
      },
      "execution_count": null,
      "outputs": []
    },
    {
      "cell_type": "code",
      "source": [
        "for key, value in var7.items():\n",
        "  print(f\"key= {key} value= {value}\")"
      ],
      "metadata": {
        "colab": {
          "base_uri": "https://localhost:8080/"
        },
        "id": "cr55q9aq6e1Q",
        "outputId": "e28e6293-c10a-43bd-e0d6-3d6a28ad015a"
      },
      "execution_count": 34,
      "outputs": [
        {
          "output_type": "stream",
          "name": "stdout",
          "text": [
            "key= Module ID value= comp 1880\n",
            "key= Module Name value= Data Science for Medical Applications\n"
          ]
        }
      ]
    },
    {
      "cell_type": "code",
      "source": [],
      "metadata": {
        "id": "ATLd081bwbVO"
      },
      "execution_count": null,
      "outputs": []
    },
    {
      "cell_type": "code",
      "source": [
        "#To add new key-value item into the dictionary\n",
        "\n",
        "var7['Year'] = \"2023-2024\"\n",
        "print(var7)"
      ],
      "metadata": {
        "id": "RPw_0Ec6dxKu",
        "colab": {
          "base_uri": "https://localhost:8080/"
        },
        "outputId": "61656336-4646-4c1f-8193-344da6400f2e"
      },
      "execution_count": 35,
      "outputs": [
        {
          "output_type": "stream",
          "name": "stdout",
          "text": [
            "{'Module ID': 'comp 1880', 'Module Name': 'Data Science for Medical Applications', 'Year': '2023-2024'}\n"
          ]
        }
      ]
    },
    {
      "cell_type": "code",
      "source": [],
      "metadata": {
        "id": "B9f8C0Pewdnw"
      },
      "execution_count": null,
      "outputs": []
    },
    {
      "cell_type": "code",
      "source": [
        "#To delete an item use del command\n",
        "del var7['Year']\n",
        "print(var7)"
      ],
      "metadata": {
        "id": "Dsu999XgfDRO",
        "colab": {
          "base_uri": "https://localhost:8080/"
        },
        "outputId": "7c1e790d-b2a0-49f6-bae5-b976d41416c0"
      },
      "execution_count": 36,
      "outputs": [
        {
          "output_type": "stream",
          "name": "stdout",
          "text": [
            "{'Module ID': 'comp 1880', 'Module Name': 'Data Science for Medical Applications'}\n"
          ]
        }
      ]
    },
    {
      "cell_type": "code",
      "source": [],
      "metadata": {
        "id": "fuy9tCp7wgbA"
      },
      "execution_count": null,
      "outputs": []
    },
    {
      "cell_type": "code",
      "source": [
        "algorithm = ['Linear Regression', 'logistic Regression', 'Random Forest', 'a3c']\n",
        "print(algorithm)"
      ],
      "metadata": {
        "colab": {
          "base_uri": "https://localhost:8080/"
        },
        "id": "YJCUcEiw7Yz9",
        "outputId": "d35d432f-2a25-48c2-eb3a-706fb3419eda"
      },
      "execution_count": 37,
      "outputs": [
        {
          "output_type": "stream",
          "name": "stdout",
          "text": [
            "['Linear Regression', 'logistic Regression', 'Random Forest', 'a3c']\n"
          ]
        }
      ]
    },
    {
      "cell_type": "code",
      "source": [],
      "metadata": {
        "id": "3YRsPpCIwkro"
      },
      "execution_count": null,
      "outputs": []
    },
    {
      "cell_type": "code",
      "source": [
        "learning = ['supervised', 'supervised',\\\n",
        "            'supervised','reinforcement']\n",
        "print(learning)"
      ],
      "metadata": {
        "id": "7EsbeoaUx02U",
        "colab": {
          "base_uri": "https://localhost:8080/"
        },
        "outputId": "2e0e9c54-6911-4bfe-af29-4a4161649049"
      },
      "execution_count": 38,
      "outputs": [
        {
          "output_type": "stream",
          "name": "stdout",
          "text": [
            "['supervised', 'supervised', 'supervised', 'reinforcement']\n"
          ]
        }
      ]
    },
    {
      "cell_type": "code",
      "source": [],
      "metadata": {
        "id": "Ju5lWsCvwnly"
      },
      "execution_count": null,
      "outputs": []
    },
    {
      "cell_type": "code",
      "source": [
        "algorithm_type =['regression','classification', \\\n",
        "                 'Regression or Classification', 'Game AI' ]\n",
        "print(algorithm_type)"
      ],
      "metadata": {
        "id": "HkB6tsGQyQKe",
        "colab": {
          "base_uri": "https://localhost:8080/"
        },
        "outputId": "09cb8eab-e263-456a-b69e-741e3dbbbf9a"
      },
      "execution_count": 39,
      "outputs": [
        {
          "output_type": "stream",
          "name": "stdout",
          "text": [
            "['regression', 'classification', 'Regression or Classification', 'Game AI']\n"
          ]
        }
      ]
    },
    {
      "cell_type": "code",
      "source": [],
      "metadata": {
        "id": "Zn0PkamfwqQh"
      },
      "execution_count": null,
      "outputs": []
    },
    {
      "cell_type": "code",
      "source": [
        "algorithm.append('K-means')\n",
        "print(algorithm)"
      ],
      "metadata": {
        "id": "VmNv3Ve4ynyo",
        "colab": {
          "base_uri": "https://localhost:8080/"
        },
        "outputId": "6872b03e-c3bb-4d1d-d599-e040660f1a03"
      },
      "execution_count": 40,
      "outputs": [
        {
          "output_type": "stream",
          "name": "stdout",
          "text": [
            "['Linear Regression', 'logistic Regression', 'Random Forest', 'a3c', 'K-means']\n"
          ]
        }
      ]
    },
    {
      "cell_type": "code",
      "source": [],
      "metadata": {
        "id": "X3tSaSbewvtH"
      },
      "execution_count": null,
      "outputs": []
    },
    {
      "cell_type": "code",
      "source": [
        "learning.append('unsupervised')\n",
        "print(learning)"
      ],
      "metadata": {
        "colab": {
          "base_uri": "https://localhost:8080/"
        },
        "id": "FZZZFkTd8lzQ",
        "outputId": "02021366-21a0-4da5-b94e-449c3202ce1d"
      },
      "execution_count": 41,
      "outputs": [
        {
          "output_type": "stream",
          "name": "stdout",
          "text": [
            "['supervised', 'supervised', 'supervised', 'reinforcement', 'unsupervised']\n"
          ]
        }
      ]
    },
    {
      "cell_type": "code",
      "source": [],
      "metadata": {
        "id": "MVjkywj5xFm-"
      },
      "execution_count": null,
      "outputs": []
    },
    {
      "cell_type": "code",
      "source": [
        "algorithm_type.append('clustering')\n",
        "print(algorithm_type)"
      ],
      "metadata": {
        "id": "Hl_hiUnezAdz",
        "colab": {
          "base_uri": "https://localhost:8080/"
        },
        "outputId": "64777613-54d3-48ab-bd12-ab87fb742e20"
      },
      "execution_count": 42,
      "outputs": [
        {
          "output_type": "stream",
          "name": "stdout",
          "text": [
            "['regression', 'classification', 'Regression or Classification', 'Game AI', 'clustering']\n"
          ]
        }
      ]
    },
    {
      "cell_type": "code",
      "source": [],
      "metadata": {
        "id": "6ZCPFWu2xId1"
      },
      "execution_count": null,
      "outputs": []
    },
    {
      "cell_type": "code",
      "source": [
        "machine_learning ={}\n",
        "machine_learning['algorithm']=algorithm\n",
        "machine_learning['learning']= learning\n",
        "\n",
        "print(machine_learning)"
      ],
      "metadata": {
        "id": "G4PtP-1Hgx3F",
        "colab": {
          "base_uri": "https://localhost:8080/"
        },
        "outputId": "7d44b816-c2ca-4708-d54a-03d52594251a"
      },
      "execution_count": 43,
      "outputs": [
        {
          "output_type": "stream",
          "name": "stdout",
          "text": [
            "{'algorithm': ['Linear Regression', 'logistic Regression', 'Random Forest', 'a3c', 'K-means'], 'learning': ['supervised', 'supervised', 'supervised', 'reinforcement', 'unsupervised']}\n"
          ]
        }
      ]
    },
    {
      "cell_type": "code",
      "source": [],
      "metadata": {
        "id": "Yx8dcRD4xKjX"
      },
      "execution_count": null,
      "outputs": []
    },
    {
      "cell_type": "code",
      "source": [
        "for i in range(5):\n",
        "  print(i)"
      ],
      "metadata": {
        "id": "T1iztBvCiih0",
        "colab": {
          "base_uri": "https://localhost:8080/"
        },
        "outputId": "910b507b-aedf-4f86-c761-4aaa23a8214d"
      },
      "execution_count": 44,
      "outputs": [
        {
          "output_type": "stream",
          "name": "stdout",
          "text": [
            "0\n",
            "1\n",
            "2\n",
            "3\n",
            "4\n"
          ]
        }
      ]
    },
    {
      "cell_type": "code",
      "source": [],
      "metadata": {
        "id": "8DnnQsF5xM7e"
      },
      "execution_count": null,
      "outputs": []
    },
    {
      "cell_type": "markdown",
      "source": [
        "## Functions in Python ##"
      ],
      "metadata": {
        "id": "xqEk-Ch7S_qO"
      }
    },
    {
      "cell_type": "code",
      "source": [],
      "metadata": {
        "id": "cmxMUVunxOpW"
      },
      "execution_count": null,
      "outputs": []
    },
    {
      "cell_type": "code",
      "source": [
        "#we define our own function add() with the 'def' and 'return' keywords\n",
        "#There is again no output here but the definition of add() is saved once we execute this cell.\n",
        "\n",
        "def add(a,b):\n",
        "  return(a+b)"
      ],
      "metadata": {
        "id": "-kXiPp3x8bXS"
      },
      "execution_count": 45,
      "outputs": []
    },
    {
      "cell_type": "code",
      "source": [],
      "metadata": {
        "id": "2sA0Vb6lxQW-"
      },
      "execution_count": null,
      "outputs": []
    },
    {
      "cell_type": "code",
      "source": [
        "#We then call our function add(), giving it two inputs\n",
        "\n",
        "add(20, 5)"
      ],
      "metadata": {
        "id": "lIgCVfDK8m8Y",
        "colab": {
          "base_uri": "https://localhost:8080/"
        },
        "outputId": "b96f4a0b-d87d-4594-e5b8-175a47be09d3"
      },
      "execution_count": 46,
      "outputs": [
        {
          "output_type": "execute_result",
          "data": {
            "text/plain": [
              "25"
            ]
          },
          "metadata": {},
          "execution_count": 46
        }
      ]
    },
    {
      "cell_type": "code",
      "source": [],
      "metadata": {
        "id": "Ao-19SiyxSmO"
      },
      "execution_count": null,
      "outputs": []
    },
    {
      "cell_type": "code",
      "source": [
        "#a more complicated function rate() which when given a letter grade (as a string), outputs a customized string\n",
        "# One important thing to note here is the use of indentation to indicate nesting of code\n",
        "# If indentation is incorrect (for example if this block of code were written all flushed to the left), the kernel would throw an error\n",
        "\n",
        "def rate(grade):\n",
        "    if grade == 'A':\n",
        "        print('Excellent!')\n",
        "    elif grade == 'B':\n",
        "        print('Good!')\n",
        "    elif grade == 'C' or grade == 'D':\n",
        "        print('Need improvement')\n",
        "    else:\n",
        "        print('Not valid grade')"
      ],
      "metadata": {
        "id": "w0bOaQwU8tBp"
      },
      "execution_count": 47,
      "outputs": []
    },
    {
      "cell_type": "code",
      "source": [],
      "metadata": {
        "id": "wv2It7CXxUb2"
      },
      "execution_count": null,
      "outputs": []
    },
    {
      "cell_type": "code",
      "source": [
        "rate('C')"
      ],
      "metadata": {
        "colab": {
          "base_uri": "https://localhost:8080/"
        },
        "id": "nKk9yVUY-xCf",
        "outputId": "d4f29342-6ac8-450c-b725-12e6e3a27cb4"
      },
      "execution_count": 48,
      "outputs": [
        {
          "output_type": "stream",
          "name": "stdout",
          "text": [
            "Need improvement\n"
          ]
        }
      ]
    },
    {
      "cell_type": "code",
      "source": [],
      "metadata": {
        "id": "IFx6RD3ixYpv"
      },
      "execution_count": null,
      "outputs": []
    },
    {
      "cell_type": "code",
      "source": [
        "rate('E')"
      ],
      "metadata": {
        "colab": {
          "base_uri": "https://localhost:8080/"
        },
        "id": "rCw-bx07-zVf",
        "outputId": "355d615c-a24c-46f2-9ee6-beed71d5cbc8"
      },
      "execution_count": 49,
      "outputs": [
        {
          "output_type": "stream",
          "name": "stdout",
          "text": [
            "Not valid grade\n"
          ]
        }
      ]
    },
    {
      "cell_type": "code",
      "source": [],
      "metadata": {
        "id": "-bbhxqycxbIl"
      },
      "execution_count": null,
      "outputs": []
    },
    {
      "cell_type": "markdown",
      "source": [
        "###Looping construct"
      ],
      "metadata": {
        "id": "ElVc3Q9kGZRI"
      }
    },
    {
      "cell_type": "code",
      "source": [],
      "metadata": {
        "id": "rGvQwy8nxdNV"
      },
      "execution_count": null,
      "outputs": []
    },
    {
      "cell_type": "code",
      "source": [
        "# 'for' loop\n",
        "\n",
        "''' We create a loop with the for…in… construct, printing a line for each iteration of the loop with print().\n",
        "Note that the number ‘5’ is not printed even though we stated range(5),\n",
        "demonstrating again that Python starts counting from zero, not one.'''\n",
        "\n",
        "for i in range(5):\n",
        "    print (i)"
      ],
      "metadata": {
        "id": "CPlpcb7MGdsB",
        "colab": {
          "base_uri": "https://localhost:8080/"
        },
        "outputId": "1ec5a0ff-4226-47c0-b51a-9bc94a71aff2"
      },
      "execution_count": 50,
      "outputs": [
        {
          "output_type": "stream",
          "name": "stdout",
          "text": [
            "0\n",
            "1\n",
            "2\n",
            "3\n",
            "4\n"
          ]
        }
      ]
    },
    {
      "cell_type": "code",
      "source": [],
      "metadata": {
        "id": "V_2fAaLpxfMF"
      },
      "execution_count": null,
      "outputs": []
    }
  ]
}